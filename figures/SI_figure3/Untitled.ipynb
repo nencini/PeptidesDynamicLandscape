{
 "cells": [
  {
   "cell_type": "code",
   "execution_count": 2,
   "id": "43efe86a",
   "metadata": {},
   "outputs": [
    {
     "name": "stderr",
     "output_type": "stream",
     "text": [
      "/home/ricky/anaconda3/envs/all3/lib/python3.8/site-packages/tqdm/auto.py:22: TqdmWarning: IProgress not found. Please update jupyter and ipywidgets. See https://ipywidgets.readthedocs.io/en/stable/user_install.html\n",
      "  from .autonotebook import tqdm as notebook_tqdm\n",
      "/home/ricky/anaconda3/envs/all3/lib/python3.8/site-packages/MDAnalysis/coordinates/chemfiles.py:59: DeprecationWarning: distutils Version classes are deprecated. Use packaging.version instead.\n",
      "  MIN_CHEMFILES_VERSION = LooseVersion(\"0.9\")\n"
     ]
    }
   ],
   "source": [
    "import MDAnalysis as mda\n",
    "import numpy as np"
   ]
  },
  {
   "cell_type": "code",
   "execution_count": 3,
   "id": "49932eef",
   "metadata": {},
   "outputs": [],
   "source": [
    "def get_rotation_of_SDS_molecule(universe,save_path):\n",
    "    for i in range(150):\n",
    "        SDS_residue=universe.select_atoms(f\"resid {i}\")\n",
    "        if 'SDS' in SDS_residue.resnames:\n",
    "            S=SDS_residue.select_atoms(\"name S\")\n",
    "            output_file=f'{save_path}/trajectory_S_COM_SDS_{i}.gro'\n",
    "            with open(output_file,'w') as f:\n",
    "                for ts in universe.trajectory:\n",
    "                    com=SDS_residue.center_of_mass()/10\n",
    "                    s_coor=S.positions[0]/10\n",
    "                    f.write(f'Title t= {ts.time:.5f} step= {int(ts.time/0.002)}\\n')\n",
    "                    f.write('    2\\n')\n",
    "                    f.write(f'    1SDS    COM    1{com[0]:8.3f}{com[1]:8.3f}{com[2]:8.3f}\\n')\n",
    "                    f.write(f'    1SDS      S    2{s_coor[0]:8.3f}{s_coor[1]:8.3f}{s_coor[2]:8.3f}\\n')\n",
    "                    f.write('   8.08636   8.08636   8.08636\\n')"
   ]
  },
  {
   "cell_type": "code",
   "execution_count": 4,
   "id": "7e8d7384",
   "metadata": {},
   "outputs": [],
   "source": [
    "peptides={\n",
    "\"eYqjD_micelle_50SDS_CHARMM_310K_Na_Neut_OPC_replica\",\n",
    "\"GWALP_monomer_micelle_80SDS_CHARMM_310K_Na_Neut_OPC_replica\",\n",
    "\"yFis1_micelle_50SDS_CHARMM_310K_Na_Neut_OPC_replica\",\n",
    "\"hMff_micelle_50SDS_CHARMM_310K_Na_Neut_OPC_replica\",\n",
    "\"eElab_micelle_40SDS_CHARMM_310K_Na_Neut_OPC_replica\"\n",
    "}\n",
    "path='/media/nenciric/Ricky2020/Corys_peptides/full_trajectories/'"
   ]
  },
  {
   "cell_type": "code",
   "execution_count": null,
   "id": "ffe54768",
   "metadata": {},
   "outputs": [],
   "source": [
    "#generate the 'trajectories' with S-atom -- center of mass vectors, \n",
    "#so that correlation functions can be calculated with gromcs \n",
    "\n",
    "for peptide in peptides:\n",
    "    for i in range(4,7):\n",
    "        pep_path=f'{path}{peptide}{i}/'\n",
    "        print(pep_path)\n",
    "        for file in os.listdir(pep_path):\n",
    "            if file=='README.yaml':\n",
    "                with open(f'{pep_path}{file}','r') as f:\n",
    "                    readme=yaml.safe_load(f)\n",
    "                xtc=f\"{pep_path}{readme['FILES_FOR_RELAXATION']['xtc']['NAME']}\"\n",
    "                gro=f\"{pep_path}{readme['FILES_FOR_RELAXATION']['gro']['NAME']}\"\n",
    "\n",
    "        universe=mda.Universe(gro,xtc)\n",
    "        new_dir=f'{peptide}{i}/'\n",
    "        os.system(f'mkdir {new_dir}')\n",
    "        get_rotation_of_SDS_molecule(universe,new_dir)\n",
    "        "
   ]
  },
  {
   "cell_type": "code",
   "execution_count": null,
   "id": "5d4d02b5",
   "metadata": {},
   "outputs": [],
   "source": []
  }
 ],
 "metadata": {
  "kernelspec": {
   "display_name": "all3",
   "language": "python",
   "name": "all3"
  },
  "language_info": {
   "codemirror_mode": {
    "name": "ipython",
    "version": 3
   },
   "file_extension": ".py",
   "mimetype": "text/x-python",
   "name": "python",
   "nbconvert_exporter": "python",
   "pygments_lexer": "ipython3",
   "version": "3.8.15"
  }
 },
 "nbformat": 4,
 "nbformat_minor": 5
}
